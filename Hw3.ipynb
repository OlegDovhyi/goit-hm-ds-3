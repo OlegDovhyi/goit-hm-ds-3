{
 "cells": [
  {
   "cell_type": "code",
   "execution_count": 2,
   "id": "a2e45eb2-318c-4223-b01b-325139bf39da",
   "metadata": {},
   "outputs": [],
   "source": [
    "import numpy as np\n",
    "import matplotlib.pyplot as plt\n",
    "import pandas as pd"
   ]
  },
  {
   "cell_type": "markdown",
   "id": "9ee73fa3-f48c-42d7-9936-800d85ef5a05",
   "metadata": {},
   "source": [
    "Функція гіпотези лінійної регресії у векторному вигляді"
   ]
  },
  {
   "cell_type": "code",
   "execution_count": 3,
   "id": "a2cf5d08-a82c-4184-b7ea-7404f5c1ae1d",
   "metadata": {},
   "outputs": [],
   "source": [
    "def hypothesis(X, w):\n",
    "    return np.dot(X, w)"
   ]
  },
  {
   "cell_type": "markdown",
   "id": "63da9d59-1e6d-483a-ab60-0b8930081cb7",
   "metadata": {},
   "source": [
    "Функція для обчислення функції втрат у векторному вигляді"
   ]
  },
  {
   "cell_type": "code",
   "execution_count": 4,
   "id": "fab1cfaf-7629-4f1a-bff4-76d61d7b0510",
   "metadata": {},
   "outputs": [],
   "source": [
    "def compute_loss(X, y, w):\n",
    "    m = len(y)\n",
    "    predictions = hypothesis(X, w)\n",
    "    loss = np.sum((predictions - y)**2) / (2 * m)\n",
    "    return loss"
   ]
  },
  {
   "cell_type": "markdown",
   "id": "20c35d9d-2799-4143-a752-b19fb56de73f",
   "metadata": {},
   "source": [
    "Реалізація одного кроку градієнтного спуску"
   ]
  },
  {
   "cell_type": "code",
   "execution_count": 5,
   "id": "942f7142-9655-4e4f-842d-a3fad797a512",
   "metadata": {},
   "outputs": [],
   "source": [
    "def gradient_descent_step(X, y, w, learning_rate):\n",
    "    m = len(y)\n",
    "    predictions = hypothesis(X, w)\n",
    "    errors = predictions - y\n",
    "    gradient = np.dot(X.T, errors) / m\n",
    "    w = w - learning_rate * gradient\n",
    "    return w"
   ]
  },
  {
   "cell_type": "markdown",
   "id": "122c72c4-2816-4a46-b1ff-f8eaa0e848e2",
   "metadata": {},
   "source": [
    "Знаходження найкращих параметрів w"
   ]
  },
  {
   "cell_type": "code",
   "execution_count": 6,
   "id": "0c9aae1b-e8a2-4cf4-960c-8c480c18849c",
   "metadata": {},
   "outputs": [],
   "source": [
    "def gradient_descent(X, y, w, learning_rate, num_iterations):\n",
    "    for i in range(num_iterations):\n",
    "        w = gradient_descent_step(X, y, w, learning_rate)\n",
    "        if i % 100 == 0:\n",
    "            print(f'Iteration {i}, Loss: {compute_loss(X, y, w)}')\n",
    "    return w"
   ]
  },
  {
   "cell_type": "markdown",
   "id": "b152940b-411e-43a7-80c9-80c4b875f2f1",
   "metadata": {},
   "source": [
    "Знаходження параметрів w за допомогою аналітичного рішення"
   ]
  },
  {
   "cell_type": "code",
   "execution_count": 7,
   "id": "12437b7d-cec3-4319-ad98-5f564666f27f",
   "metadata": {},
   "outputs": [],
   "source": [
    "def analytical_solution(X, y):\n",
    "    w = np.linalg.inv(X.T @ X) @ X.T @ y\n",
    "    return w"
   ]
  },
  {
   "cell_type": "markdown",
   "id": "d6aa5099-926d-4300-aa66-dc4752eb0e78",
   "metadata": {},
   "source": [
    "Порівняння результатів\n"
   ]
  },
  {
   "cell_type": "code",
   "execution_count": 8,
   "id": "db9547df-690f-44dc-a923-a89b0ed68a02",
   "metadata": {},
   "outputs": [],
   "source": [
    "def compare_results(X, y, learning_rate, num_iterations):\n",
    "    \n",
    "    num_features = X.shape[1]\n",
    "    w_initial = np.zeros((num_features, 1))\n",
    "\n",
    "    w_gradient_descent = gradient_descent(X, y, w_initial, learning_rate, num_iterations)\n",
    "    w_analytical_solution = analytical_solution(X, y)\n",
    "\n",
    "    print(f'Parameters found by Gradient Descent: {w_gradient_descent}')\n",
    "    print(f'Parameters found by Analytical Solution: {w_analytical_solution}')\n",
    "\n",
    "    loss_gradient_descent = compute_loss(X, y, w_gradient_descent)\n",
    "    loss_analytical_solution = compute_loss(X, y, w_analytical_solution)\n",
    "\n",
    "    print(f'Loss (Gradient Descent): {loss_gradient_descent}')\n",
    "    print(f'Loss (Analytical Solution): {loss_analytical_solution}')"
   ]
  },
  {
   "cell_type": "markdown",
   "id": "87fe4e1c-ab4e-4522-b819-ef5f6b59ea6c",
   "metadata": {},
   "source": [
    "Реалізація задачі\n"
   ]
  },
  {
   "cell_type": "code",
   "execution_count": 9,
   "id": "603f232d-d36a-43f5-8901-ac64340414de",
   "metadata": {},
   "outputs": [
    {
     "name": "stdout",
     "output_type": "stream",
     "text": [
      "      price  area  bedrooms  bathrooms  stories mainroad guestroom basement  \\\n",
      "0  13300000  7420         4          2        3      yes        no       no   \n",
      "1  12250000  8960         4          4        4      yes        no       no   \n",
      "2  12250000  9960         3          2        2      yes        no      yes   \n",
      "3  12215000  7500         4          2        2      yes        no      yes   \n",
      "4  11410000  7420         4          1        2      yes       yes      yes   \n",
      "\n",
      "  hotwaterheating airconditioning  parking prefarea furnishingstatus  \n",
      "0              no             yes        2      yes        furnished  \n",
      "1              no             yes        3       no        furnished  \n",
      "2              no              no        2      yes   semi-furnished  \n",
      "3              no             yes        3      yes        furnished  \n",
      "4              no             yes        2       no        furnished  \n",
      "Iteration 0, Loss: 12856932767146.533\n",
      "Parameters found by Gradient Descent: [[10016.30475873]\n",
      " [ 6848.75752337]\n",
      " [ 9671.48790432]\n",
      " [47667.29247706]]\n",
      "Parameters found by Analytical Solution: [[ 821214.14349519]\n",
      " [ 299983.57107963]\n",
      " [ 695808.52272537]\n",
      " [4766729.24770642]]\n",
      "Loss (Gradient Descent): 12856932767146.533\n",
      "Loss (Analytical Solution): 895585024988.6597\n"
     ]
    }
   ],
   "source": [
    "from sklearn.preprocessing import StandardScaler\n",
    "\n",
    "df = pd.read_csv('housing.csv')\n",
    "\n",
    "print(df.head())\n",
    "\n",
    "X = df[['area', 'bedrooms', 'bathrooms']].copy()  \n",
    "\n",
    "scaler = StandardScaler()\n",
    "\n",
    "X_scaled = X[['area', 'bedrooms', 'bathrooms']].values\n",
    "X_scaled = scaler.fit_transform(X_scaled)\n",
    "\n",
    "X_scaled = np.hstack((X_scaled, np.ones((X_scaled.shape[0], 1))))\n",
    "\n",
    "y = df['price'].values.reshape(-1, 1)\n",
    "\n",
    "num_iterations = 1\n",
    "learning_rate = 0.01\n",
    "\n",
    "compare_results(X_scaled, y, learning_rate, num_iterations)"
   ]
  },
  {
   "cell_type": "code",
   "execution_count": null,
   "id": "2f1b71a9-52e9-479c-977e-08126ac9d52b",
   "metadata": {},
   "outputs": [],
   "source": []
  }
 ],
 "metadata": {
  "kernelspec": {
   "display_name": "Python 3 (ipykernel)",
   "language": "python",
   "name": "python3"
  },
  "language_info": {
   "codemirror_mode": {
    "name": "ipython",
    "version": 3
   },
   "file_extension": ".py",
   "mimetype": "text/x-python",
   "name": "python",
   "nbconvert_exporter": "python",
   "pygments_lexer": "ipython3",
   "version": "3.10.8"
  }
 },
 "nbformat": 4,
 "nbformat_minor": 5
}
